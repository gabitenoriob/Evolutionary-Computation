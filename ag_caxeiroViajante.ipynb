{
  "nbformat": 4,
  "nbformat_minor": 0,
  "metadata": {
    "colab": {
      "provenance": [],
      "authorship_tag": "ABX9TyNODgBjS9mMAtfaU3O3+19O",
      "include_colab_link": true
    },
    "kernelspec": {
      "name": "python3",
      "display_name": "Python 3"
    },
    "language_info": {
      "name": "python"
    }
  },
  "cells": [
    {
      "cell_type": "markdown",
      "metadata": {
        "id": "view-in-github",
        "colab_type": "text"
      },
      "source": [
        "<a href=\"https://colab.research.google.com/github/gabitenoriob/Evolutionary-Computation/blob/main/ag_caxeiroViajante.ipynb\" target=\"_parent\"><img src=\"https://colab.research.google.com/assets/colab-badge.svg\" alt=\"Open In Colab\"/></a>"
      ]
    },
    {
      "cell_type": "code",
      "source": [
        "!pip install deap\n"
      ],
      "metadata": {
        "colab": {
          "base_uri": "https://localhost:8080/"
        },
        "id": "MoKrlfeTlSlR",
        "outputId": "2cd25252-0180-4252-9557-c805421c34ed"
      },
      "execution_count": 1,
      "outputs": [
        {
          "output_type": "stream",
          "name": "stdout",
          "text": [
            "Collecting deap\n",
            "  Downloading deap-1.4.3-cp311-cp311-manylinux_2_5_x86_64.manylinux1_x86_64.manylinux_2_17_x86_64.manylinux2014_x86_64.whl.metadata (13 kB)\n",
            "Requirement already satisfied: numpy in /usr/local/lib/python3.11/dist-packages (from deap) (2.0.2)\n",
            "Downloading deap-1.4.3-cp311-cp311-manylinux_2_5_x86_64.manylinux1_x86_64.manylinux_2_17_x86_64.manylinux2014_x86_64.whl (135 kB)\n",
            "\u001b[2K   \u001b[90m━━━━━━━━━━━━━━━━━━━━━━━━━━━━━━━━━━━━━━━━\u001b[0m \u001b[32m135.6/135.6 kB\u001b[0m \u001b[31m3.3 MB/s\u001b[0m eta \u001b[36m0:00:00\u001b[0m\n",
            "\u001b[?25hInstalling collected packages: deap\n",
            "Successfully installed deap-1.4.3\n"
          ]
        }
      ]
    },
    {
      "cell_type": "code",
      "source": [
        "from deap import creator, base, tools, algorithms\n",
        "import numpy as np\n",
        "import random\n",
        "\n",
        "# --- CONFIGURAÇÃO DO ALGORITMO GENÉTICO ---\n",
        "# O objetivo é encontrar a rota com a menor distância entre 4 locais.\n",
        "\n",
        "# 1. Inicialização da Toolbox\n",
        "# A Toolbox é o contêiner principal para registrar as funções (operadores) do algoritmo genético.\n",
        "toolbox = base.Toolbox()\n",
        "\n",
        "# 2. Definição do Problema\n",
        "# Define o número de \"cidades\" ou locais a serem visitados. O cromossomo terá esse tamanho.\n",
        "n = 4\n",
        "\n",
        "# 2.1. Definição da Aptidão (Fitness)\n",
        "# Cria-se um tipo de fitness chamado 'FitnessMin'.\n",
        "# O 'weights=(-1.0,)' indica que o objetivo é MINIMIZAR a função de aptidão.\n",
        "# Um peso negativo significa minimização, um positivo significaria maximização.\n",
        "creator.create(\"FitnessMin\", base.Fitness, weights=(-1.0,))\n",
        "\n",
        "# 2.2. Definição do Indivíduo\n",
        "# Cria-se a estrutura do indivíduo. Cada indivíduo será uma lista Python ('list').\n",
        "# Associamos o fitness 'FitnessMin' a cada indivíduo.\n",
        "# Um indivíduo representará uma rota possível (ex: [cidade1, cidade3, cidade0, cidade2]).\n",
        "creator.create(\"Individual\", list, fitness=creator.FitnessMin)\n",
        "\n",
        "# 3. Registro dos Operadores de Inicialização\n",
        "# 3.1. Gene (Cromossomo)\n",
        "# Registra uma função para gerar o cromossomo. 'np.random.permutation(n)' cria uma\n",
        "# permutação aleatória dos números de 0 a (n-1), o que é ideal para problemas de rota.\n",
        "toolbox.register(\"Genes\", np.random.permutation, n)\n",
        "\n",
        "# 3.2. Indivíduo\n",
        "# Registra uma função para criar um indivíduo completo. 'tools.initIterate' popula\n",
        "# um 'creator.Individual' com os genes gerados pela função 'toolbox.Genes'.\n",
        "toolbox.register(\"Individuos\", tools.initIterate, creator.Individual, toolbox.Genes)\n",
        "\n",
        "# 3.3. População\n",
        "# Registra uma função para criar a população, que será uma lista de indivíduos.\n",
        "toolbox.register(\"Population\", tools.initRepeat, list, toolbox.Individuos)\n",
        "\n",
        "# 4. Matriz de Distâncias\n",
        "# Matriz que define a distância entre cada par de locais.\n",
        "# distancias[i][j] é a distância do local 'i' para o local 'j'.\n",
        "distancias = np.array([[0, 1, 5, 2],\n",
        "                       [1, 0, 3, 2],\n",
        "                       [1, 3, 0, 3],\n",
        "                       [2, 5, 3, 0]])\n",
        "\n",
        "# 5. Função de Aptidão (Evaluation)\n",
        "# Função que calcula a \"qualidade\" de um indivíduo (a distância total da rota).\n",
        "def aptidao(individuo):\n",
        "  distancia_total = 0\n",
        "  # Itera pela rota e soma as distâncias entre locais consecutivos.\n",
        "  for i in range(n - 1):\n",
        "    local_origem = individuo[i]\n",
        "    local_destino = individuo[i+1]\n",
        "    distancia_total += distancias[local_origem][local_destino]\n",
        "\n",
        "  # O DEAP espera que o fitness seja retornado como uma tupla. A vírgula no final cria a tupla.\n",
        "  return distancia_total,\n",
        "\n",
        "# 6. Registro dos Operadores Genéticos na Toolbox\n",
        "toolbox.register(\"evaluate\", aptidao) # Função de avaliação\n",
        "toolbox.register(\"mate\", tools.cxPartialyMatched) # Crossover para permutações\n",
        "toolbox.register(\"mutate\", tools.mutShuffleIndexes, indpb=0.1) # Mutação para permutações\n",
        "toolbox.register(\"select\", tools.selTournament, tournsize=2) # Seleção por torneio\n",
        "\n",
        "# 7. Configuração de Estatísticas e Hall of Fame\n",
        "# Cria um objeto para registrar estatísticas a cada geração.\n",
        "estatistica = tools.Statistics(lambda ind: ind.fitness.values)\n",
        "estatistica.register(\"max\", np.max) # Fitness máximo\n",
        "estatistica.register(\"min\", np.min) # Fitness mínimo (o que nos interessa)\n",
        "estatistica.register(\"med\", np.mean) # Fitness médio\n",
        "\n",
        "# Cria um objeto 'HallOfFame' para armazenar o melhor indivíduo encontrado em toda a execução.\n",
        "hof = tools.HallOfFame(1)\n",
        "\n",
        "# --- EXECUÇÃO DO ALGORITMO ---\n",
        "\n",
        "# Gera a população inicial com 10 indivíduos.\n",
        "pop = toolbox.Population(n=10)\n",
        "\n",
        "# Executa o algoritmo evolutivo 'eaSimple'.\n",
        "resultado, log = algorithms.eaSimple(\n",
        "    pop,                      # População inicial\n",
        "    toolbox,                  # Toolbox com os operadores\n",
        "    cxpb=0.8,                 # Probabilidade de Crossover (80%)\n",
        "    mutpb=0.1,                # Probabilidade de Mutação (10%)\n",
        "    ngen=30,                  # Número de gerações\n",
        "    stats=estatistica,        # Objeto de estatísticas\n",
        "    halloffame=hof,           # Objeto Hall of Fame\n",
        "    verbose=True              # Imprime o progresso no console\n",
        ")\n",
        "\n",
        "# --- RESULTADOS ---\n",
        "print(\"\\nMelhor Rota Encontrada:\", hof[0])\n",
        "print(\"Menor Distância:\", hof[0].fitness.values[0])"
      ],
      "metadata": {
        "id": "5h-KSwjslZwo",
        "colab": {
          "base_uri": "https://localhost:8080/"
        },
        "outputId": "fa6afdf6-c137-4da7-bb4c-c4629765cde2"
      },
      "execution_count": 3,
      "outputs": [
        {
          "output_type": "stream",
          "name": "stdout",
          "text": [
            "gen\tnevals\tmax\tmin\tmed\n",
            "0  \t10    \t5  \t1  \t3.3\n",
            "1  \t10    \t5  \t1  \t2.7\n",
            "2  \t5     \t5  \t1  \t2.5\n",
            "3  \t10    \t5  \t1  \t2.2\n",
            "4  \t9     \t5  \t1  \t2.1\n",
            "5  \t9     \t5  \t1  \t2.5\n",
            "6  \t8     \t5  \t1  \t1.9\n",
            "7  \t10    \t5  \t1  \t2.2\n",
            "8  \t10    \t3  \t1  \t1.5\n",
            "9  \t9     \t2  \t1  \t1.2\n",
            "10 \t10    \t1  \t1  \t1  \n",
            "11 \t8     \t1  \t1  \t1  \n",
            "12 \t6     \t1  \t1  \t1  \n",
            "13 \t9     \t1  \t1  \t1  \n",
            "14 \t8     \t1  \t1  \t1  \n",
            "15 \t8     \t1  \t1  \t1  \n",
            "16 \t8     \t3  \t1  \t1.2\n",
            "17 \t10    \t1  \t1  \t1  \n",
            "18 \t8     \t5  \t1  \t1.4\n",
            "19 \t10    \t1  \t1  \t1  \n",
            "20 \t8     \t1  \t1  \t1  \n",
            "21 \t10    \t1  \t1  \t1  \n",
            "22 \t8     \t1  \t1  \t1  \n",
            "23 \t8     \t1  \t1  \t1  \n",
            "24 \t10    \t1  \t1  \t1  \n",
            "25 \t10    \t5  \t1  \t1.4\n",
            "26 \t6     \t1  \t1  \t1  \n",
            "27 \t8     \t1  \t1  \t1  \n",
            "28 \t8     \t5  \t1  \t1.4\n",
            "29 \t8     \t1  \t1  \t1  \n",
            "30 \t8     \t1  \t1  \t1  \n"
          ]
        },
        {
          "output_type": "stream",
          "name": "stderr",
          "text": [
            "/usr/local/lib/python3.11/dist-packages/deap/creator.py:185: RuntimeWarning: A class named 'FitnessMin' has already been created and it will be overwritten. Consider deleting previous creation of that class or rename it.\n",
            "  warnings.warn(\"A class named '{0}' has already been created and it \"\n",
            "/usr/local/lib/python3.11/dist-packages/deap/creator.py:185: RuntimeWarning: A class named 'Individual' has already been created and it will be overwritten. Consider deleting previous creation of that class or rename it.\n",
            "  warnings.warn(\"A class named '{0}' has already been created and it \"\n"
          ]
        }
      ]
    },
    {
      "cell_type": "code",
      "source": [
        "print(resultado)"
      ],
      "metadata": {
        "colab": {
          "base_uri": "https://localhost:8080/"
        },
        "id": "H7CPdVH1qbX8",
        "outputId": "a395d685-7961-4cd8-8d5d-ff97d1283065"
      },
      "execution_count": 4,
      "outputs": [
        {
          "output_type": "stream",
          "name": "stdout",
          "text": [
            "[[np.int64(0), np.int64(1), np.int64(3), np.int64(2)], [np.int64(0), np.int64(1), np.int64(2), np.int64(3)], [np.int64(0), np.int64(1), np.int64(2), np.int64(3)], [np.int64(0), np.int64(1), np.int64(2), np.int64(3)], [np.int64(0), np.int64(1), np.int64(2), np.int64(3)], [np.int64(0), np.int64(1), np.int64(2), np.int64(3)], [np.int64(0), np.int64(1), np.int64(2), np.int64(3)], [np.int64(0), np.int64(1), np.int64(3), np.int64(2)], [np.int64(0), np.int64(1), np.int64(3), np.int64(2)], [np.int64(0), np.int64(1), np.int64(3), np.int64(2)]]\n"
          ]
        }
      ]
    },
    {
      "cell_type": "code",
      "source": [
        "print(hof)"
      ],
      "metadata": {
        "colab": {
          "base_uri": "https://localhost:8080/"
        },
        "id": "j-B5RsEOqelD",
        "outputId": "d345635f-b33a-4b13-f5e4-04eeb1088956"
      },
      "execution_count": 5,
      "outputs": [
        {
          "output_type": "stream",
          "name": "stdout",
          "text": [
            "[[np.int64(0), np.int64(1), np.int64(2), np.int64(3)]]\n"
          ]
        }
      ]
    },
    {
      "cell_type": "code",
      "source": [
        "import matplotlib.pyplot as plt\n",
        "\n",
        "plt.plot(log.select(\"max\"))\n",
        "plt.plot(log.select(\"min\"))\n",
        "plt.plot(log.select(\"med\"))\n",
        "plt.legend([\"max\",\"min\",\"med\"])\n",
        "plt.show()\n",
        "\n"
      ],
      "metadata": {
        "colab": {
          "base_uri": "https://localhost:8080/",
          "height": 430
        },
        "id": "JHlitPvurkz3",
        "outputId": "66ac7778-55f8-41d7-92d1-1b914211a804"
      },
      "execution_count": 8,
      "outputs": [
        {
          "output_type": "display_data",
          "data": {
            "text/plain": [
              "<Figure size 640x480 with 1 Axes>"
            ],
            "image/png": "[encoded data removed]"
          },
          "metadata": {}
        }
      ]
    }
  ]
}