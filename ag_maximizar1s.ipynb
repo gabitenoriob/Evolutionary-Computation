{
  "nbformat": 4,
  "nbformat_minor": 0,
  "metadata": {
    "colab": {
      "provenance": [],
      "authorship_tag": "ABX9TyOVQsi6cCO+oCICz0YOh/QY",
      "include_colab_link": true
    },
    "kernelspec": {
      "name": "python3",
      "display_name": "Python 3"
    },
    "language_info": {
      "name": "python"
    }
  },
  "cells": [
    {
      "cell_type": "markdown",
      "metadata": {
        "id": "view-in-github",
        "colab_type": "text"
      },
      "source": [
        "<a href=\"https://colab.research.google.com/github/gabitenoriob/Evolutionary-Computation/blob/main/ag_maximizar1s.ipynb\" target=\"_parent\"><img src=\"https://colab.research.google.com/assets/colab-badge.svg\" alt=\"Open In Colab\"/></a>"
      ]
    },
    {
      "cell_type": "code",
      "execution_count": null,
      "metadata": {
        "colab": {
          "base_uri": "https://localhost:8080/"
        },
        "id": "_VS9Wji1aZEH",
        "outputId": "6ae9f19a-6ed6-4180-e551-2fd431c71bf7"
      },
      "outputs": [
        {
          "output_type": "stream",
          "name": "stdout",
          "text": [
            "Melhor: [1, 1, 1, 1, 1, 1, 1, 1, 1, 1, 1, 1, 1, 1, 1, 1, 1, 1, 1, 1] com 20 uns\n"
          ]
        }
      ],
      "source": [
        "import random\n",
        "\n",
        "def fitness(ind):\n",
        "    return sum(ind) #apitidão aqui esta sendo a soma de todos os genes do ind = o max de 1s seria soma = 20\n",
        "\n",
        "def mutate(bitstring, r_mut): #percorre cada gene do cromossomo tendo a chance pequena de altera-lo\n",
        "    return [1 - bit if random.random() < r_mut else bit for bit in bitstring]\n",
        "\n",
        "def crossover(p1, p2):\n",
        "    pt = random.randrange(1, len(p1)) #ponto aleatorio a ser cortado\n",
        "    return p1[:pt] + p2[pt:], p2[:pt] + p1[pt:] #cruza nesse ponto p1[:pt] + p2[pt:]: O primeiro filho é criado combinando a cabeça do pai 1 com a cauda do pai 2. p2[:pt] + p1[pt:]: O segundo filho é criado combinando a cabeça do pai 2 com a cauda do pai 1.\n",
        "\n",
        "def genetic_algorithm(n_bits=20, n_pop=100, n_iter=100, r_cross=0.9, r_mut=0.05): #20 bits p cada cromossomo e terá 100 cromossomos/soluções possiveis, a parada sao 100 iterações e os r sao as probabilidades de ser mutado e cross\n",
        "    pop = [[random.randint(0,1) for _ in range(n_bits)] for _ in range(n_pop)] #0 ou 1 para todos aleatoriamente\n",
        "    best, best_fit = None, -1 #inicialização dos parametros que quer achar\n",
        "\n",
        "    for gen in range(n_iter): #limite de 100 iterações\n",
        "        scored = [(fitness(ind), ind) for ind in pop] #guardando os scores/apitidoes para cada ind de população na forma de tupla (apitidao,individuo)\n",
        "        scored.sort(reverse=True) #ordenando a lista\n",
        "        if scored[0][0] > best_fit: #analisa se é o melhor score ate ent\n",
        "            best_fit, best = scored[0][0], scored[0][1] #scored[0][0] acessa o primeiro elemento dessa tupla, que é a aptidão (o score numérico).scored[0][1] acessa o segundo elemento dessa tupla, que é o indivíduo em si (a sequência de bits).\n",
        "\n",
        "        #seleção - elitismo\n",
        "        selected = [ind for _, ind in scored[:n_pop//2]] #seleciona metade superior da pop (os q tem melhor score) #//2 é so p dizer q é divisao inteira\n",
        "        #seleciona so os ind for _,ind ignora oq vem antes de ind (_)\n",
        "\n",
        "\n",
        "        #nova geração\n",
        "        children = []\n",
        "        while len(children) < n_pop: #preenche a nova população ate q o tamanho seja n_pop = 10\n",
        "            p1, p2 = random.sample(selected, 2) #seleciona aleatoriamente 2 ind da lista de selecionados p serem os pais\n",
        "\n",
        "            #operações\n",
        "            c1, c2 = crossover(p1, p2) if random.random() < r_cross else (p1, p2) #se o numero aletaorio for menor q a taxa de crossover ele deve realizar o crossover e guarda os filhos em c1,c2\n",
        "            children.append(mutate(c1, r_mut)) #pega esse 1 filho e faz uma mutação nele, depois adc a lista de filhos\n",
        "\n",
        "\n",
        "            if len(children) < n_pop: #é importante para o caso de n_pop ser um número ímpar. Se o tamanho da população for 101, por exemplo, no último passo do loop, só precisaremos adicionar um filho, e não dois\n",
        "                children.append(mutate(c2, r_mut)) #se a pop ainda n estiver completa muta e poe o c2 tambem\n",
        "\n",
        "        pop = children\n",
        "\n",
        "    return best, best_fit\n",
        "\n",
        "best, score = genetic_algorithm()\n",
        "print(f\"Melhor: {best} com {score} uns\")\n"
      ]
    }
  ]
}