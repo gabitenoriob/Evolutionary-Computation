{
  "nbformat": 4,
  "nbformat_minor": 0,
  "metadata": {
    "colab": {
      "provenance": [],
      "authorship_tag": "ABX9TyMtalelZrk5gfJ9/7l0b1aZ",
      "include_colab_link": true
    },
    "kernelspec": {
      "name": "python3",
      "display_name": "Python 3"
    },
    "language_info": {
      "name": "python"
    }
  },
  "cells": [
    {
      "cell_type": "markdown",
      "metadata": {
        "id": "view-in-github",
        "colab_type": "text"
      },
      "source": [
        "<a href=\"https://colab.research.google.com/github/gabitenoriob/Evolutionary-Computation/blob/main/ag_raizes2Grau.ipynb\" target=\"_parent\"><img src=\"https://colab.research.google.com/assets/colab-badge.svg\" alt=\"Open In Colab\"/></a>"
      ]
    },
    {
      "cell_type": "code",
      "execution_count": 19,
      "metadata": {
        "id": "i0-afYAgAdLU",
        "colab": {
          "base_uri": "https://localhost:8080/"
        },
        "outputId": "df9d867a-d5ce-4f92-a68c-8939af1593c3"
      },
      "outputs": [
        {
          "output_type": "stream",
          "name": "stdout",
          "text": [
            "Geração 0 | Melhor até agora: 1000010100110100, x1 = 0 x2 = -6 fitness = 18.0000\n",
            "Geração 1 | Melhor até agora: 0110000100111000, x1 = -3 x2 = -6 fitness = 12.0000\n",
            "Geração 2 | Melhor até agora: 0110000100111000, x1 = -3 x2 = -6 fitness = 12.0000\n",
            "Geração 3 | Melhor até agora: 0110000100111000, x1 = -3 x2 = -6 fitness = 12.0000\n",
            "Geração 4 | Melhor até agora: 0110000100111000, x1 = -3 x2 = -6 fitness = 12.0000\n",
            "Geração 5 | Melhor até agora: 0110000100111000, x1 = -3 x2 = -6 fitness = 12.0000\n",
            "Geração 6 | Melhor até agora: 0110000100111000, x1 = -3 x2 = -6 fitness = 12.0000\n",
            "Geração 7 | Melhor até agora: 0110000100111000, x1 = -3 x2 = -6 fitness = 12.0000\n",
            "Geração 8 | Melhor até agora: 0110000100111000, x1 = -3 x2 = -6 fitness = 12.0000\n",
            "Geração 9 | Melhor até agora: 0110000100111000, x1 = -3 x2 = -6 fitness = 12.0000\n",
            "Geração 10 | Melhor até agora: 0110000100111000, x1 = -3 x2 = -6 fitness = 12.0000\n",
            "Geração 11 | Melhor até agora: 0110000100111000, x1 = -3 x2 = -6 fitness = 12.0000\n",
            "Geração 12 | Melhor até agora: 0110000100111000, x1 = -3 x2 = -6 fitness = 12.0000\n",
            "Geração 13 | Melhor até agora: 0110000100111000, x1 = -3 x2 = -6 fitness = 12.0000\n",
            "Geração 14 | Melhor até agora: 0111011010001011, x1 = -1 x2 = 0 fitness = 8.0000\n",
            "Geração 15 | Melhor até agora: 0111011010001011, x1 = -1 x2 = 0 fitness = 8.0000\n",
            "Geração 16 | Melhor até agora: 0111011010001011, x1 = -1 x2 = 0 fitness = 8.0000\n",
            "Geração 17 | Melhor até agora: 0111011010001011, x1 = -1 x2 = 0 fitness = 8.0000\n",
            "Geração 18 | Melhor até agora: 0111011010001011, x1 = -1 x2 = 0 fitness = 8.0000\n",
            "Geração 19 | Melhor até agora: 0111011010001011, x1 = -1 x2 = 0 fitness = 8.0000\n",
            "Geração 20 | Melhor até agora: 0111011010001011, x1 = -1 x2 = 0 fitness = 8.0000\n",
            "Geração 21 | Melhor até agora: 0111011010001011, x1 = -1 x2 = 0 fitness = 8.0000\n",
            "Geração 22 | Melhor até agora: 0111011010001011, x1 = -1 x2 = 0 fitness = 8.0000\n",
            "Geração 23 | Melhor até agora: 0111011010001011, x1 = -1 x2 = 0 fitness = 8.0000\n",
            "Geração 24 | Melhor até agora: 0111011010001011, x1 = -1 x2 = 0 fitness = 8.0000\n",
            "Geração 25 | Melhor até agora: 0111011010001011, x1 = -1 x2 = 0 fitness = 8.0000\n",
            "Geração 26 | Melhor até agora: 0111011010001011, x1 = -1 x2 = 0 fitness = 8.0000\n",
            "Geração 27 | Melhor até agora: 0111011010001011, x1 = -1 x2 = 0 fitness = 8.0000\n",
            "Geração 28 | Melhor até agora: 0111011010001011, x1 = -1 x2 = 0 fitness = 8.0000\n",
            "Geração 29 | Melhor até agora: 0111011010001011, x1 = -1 x2 = 0 fitness = 8.0000\n",
            "Geração 30 | Melhor até agora: 0111011010001011, x1 = -1 x2 = 0 fitness = 8.0000\n",
            "Geração 31 | Melhor até agora: 0111011010001011, x1 = -1 x2 = 0 fitness = 8.0000\n",
            "Geração 32 | Melhor até agora: 0111011010001011, x1 = -1 x2 = 0 fitness = 8.0000\n",
            "Geração 33 | Melhor até agora: 0111011010001011, x1 = -1 x2 = 0 fitness = 8.0000\n",
            "Geração 34 | Melhor até agora: 0111011010001011, x1 = -1 x2 = 0 fitness = 8.0000\n",
            "Geração 35 | Melhor até agora: 0111011010001011, x1 = -1 x2 = 0 fitness = 8.0000\n",
            "Geração 36 | Melhor até agora: 0111011010001011, x1 = -1 x2 = 0 fitness = 8.0000\n",
            "Geração 37 | Melhor até agora: 0111011010001011, x1 = -1 x2 = 0 fitness = 8.0000\n",
            "Geração 38 | Melhor até agora: 0111011010001011, x1 = -1 x2 = 0 fitness = 8.0000\n",
            "Geração 39 | Melhor até agora: 0111011010001011, x1 = -1 x2 = 0 fitness = 8.0000\n",
            "Geração 40 | Melhor até agora: 0111011010001011, x1 = -1 x2 = 0 fitness = 8.0000\n",
            "Geração 41 | Melhor até agora: 0111011010001011, x1 = -1 x2 = 0 fitness = 8.0000\n",
            "Geração 42 | Melhor até agora: 0111011010001011, x1 = -1 x2 = 0 fitness = 8.0000\n",
            "Geração 43 | Melhor até agora: 0111011010001011, x1 = -1 x2 = 0 fitness = 8.0000\n",
            "Geração 44 | Melhor até agora: 0111011010001011, x1 = -1 x2 = 0 fitness = 8.0000\n",
            "Geração 45 | Melhor até agora: 0111011010001011, x1 = -1 x2 = 0 fitness = 8.0000\n",
            "Geração 46 | Melhor até agora: 0110101001010001, x1 = -2 x2 = -4 fitness = 2.0000\n",
            "Geração 47 | Melhor até agora: 0110101001010001, x1 = -2 x2 = -4 fitness = 2.0000\n",
            "Geração 48 | Melhor até agora: 0110101001010001, x1 = -2 x2 = -4 fitness = 2.0000\n",
            "Geração 49 | Melhor até agora: 0110101001010001, x1 = -2 x2 = -4 fitness = 2.0000\n",
            "Geração 50 | Melhor até agora: 0110101001010001, x1 = -2 x2 = -4 fitness = 2.0000\n",
            "Geração 51 | Melhor até agora: 0110101001010001, x1 = -2 x2 = -4 fitness = 2.0000\n",
            "Geração 52 | Melhor até agora: 0110101001010001, x1 = -2 x2 = -4 fitness = 2.0000\n",
            "Geração 53 | Melhor até agora: 0110101001010001, x1 = -2 x2 = -4 fitness = 2.0000\n",
            "Geração 54 | Melhor até agora: 0110101001010001, x1 = -2 x2 = -4 fitness = 2.0000\n",
            "Geração 55 | Melhor até agora: 0110101001010001, x1 = -2 x2 = -4 fitness = 2.0000\n",
            "Geração 56 | Melhor até agora: 0110101001010001, x1 = -2 x2 = -4 fitness = 2.0000\n",
            "Geração 57 | Melhor até agora: 0101111001011100, x1 = -3 x2 = -3 fitness = 0.0000\n"
          ]
        },
        {
          "output_type": "execute_result",
          "data": {
            "text/plain": [
              "([0, 1, 0, 1, 1, 1, 1, 0, 0, 1, 0, 1, 1, 1, 0, 0], 0)"
            ]
          },
          "metadata": {},
          "execution_count": 19
        }
      ],
      "source": [
        "import random\n",
        "#População toda é substituída a cada geração. - não faz seleção\n",
        "\n",
        "# f(x) = x^2 + 5x + 6\n",
        "def f(x):\n",
        "    return x**2 + 5*x + 6\n",
        "\n",
        "def fitness(x1, x2):\n",
        "    return abs(f(x1)) + abs(f(x2))\n",
        "\n",
        "def binario_para_int(b):\n",
        "    inteiro = int(\"\".join(map(str, b)), 2)\n",
        "    return -10 + (20 * inteiro) // (2**len(b) - 1)\n",
        "\n",
        "def decodificar(cromossomo):\n",
        "    x1_bin = cromossomo[:8]\n",
        "    x2_bin = cromossomo[8:]\n",
        "    x1 = binario_para_int(x1_bin)\n",
        "    x2 = binario_para_int(x2_bin)\n",
        "    return x1, x2\n",
        "\n",
        "def crossover(p1, p2):\n",
        "    ponto = random.randint(1, len(p1) - 2) #evita cortar no incio ou no final\n",
        "    filho = p1[:ponto] + p2[ponto:]\n",
        "    return filho\n",
        "\n",
        "def mutar(cromossomo, taxa=0.02):\n",
        "    return [bit if random.random() > taxa else 1 - bit for bit in cromossomo]\n",
        "\n",
        "def ag():\n",
        "    populacao = [[random.randint(0, 1) for _ in range(16)] for _ in range(10)]\n",
        "    best, best_score = [], 1000\n",
        "\n",
        "    for i in range(100):\n",
        "        nova_populacao = []\n",
        "        for _ in range(len(populacao)):\n",
        "            # Seleção aleatória (sem elitismo)\n",
        "            p1 = random.choice(populacao)\n",
        "            p2 = random.choice(populacao)\n",
        "            filho = crossover(p1, p2)\n",
        "            filho = mutar(filho)\n",
        "            nova_populacao.append(filho)\n",
        "\n",
        "            x1, x2 = decodificar(filho)\n",
        "            score = fitness(x1, x2)\n",
        "            if score < best_score:\n",
        "                best, best_score = filho, score\n",
        "\n",
        "        populacao = nova_populacao\n",
        "        x1, x2 = decodificar(best)\n",
        "        score = fitness(x1, x2)\n",
        "        print(f\"Geração {i} | Melhor até agora: {''.join(map(str, best))}, x1 = {x1} x2 = {x2} fitness = {score:.4f}\")\n",
        "\n",
        "        if score == 0:\n",
        "            break\n",
        "\n",
        "    return best, best_score\n",
        "\n",
        "ag()"
      ]
    }
  ]
}