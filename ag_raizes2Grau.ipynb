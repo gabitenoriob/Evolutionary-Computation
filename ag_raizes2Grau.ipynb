{
  "nbformat": 4,
  "nbformat_minor": 0,
  "metadata": {
    "colab": {
      "provenance": [],
      "authorship_tag": "ABX9TyOngya3IDsp6d9XuMOm76q0",
      "include_colab_link": true
    },
    "kernelspec": {
      "name": "python3",
      "display_name": "Python 3"
    },
    "language_info": {
      "name": "python"
    }
  },
  "cells": [
    {
      "cell_type": "markdown",
      "metadata": {
        "id": "view-in-github",
        "colab_type": "text"
      },
      "source": [
        "<a href=\"https://colab.research.google.com/github/gabitenoriob/Evolutionary-Computation/blob/main/ag_raizes2Grau.ipynb\" target=\"_parent\"><img src=\"https://colab.research.google.com/assets/colab-badge.svg\" alt=\"Open In Colab\"/></a>"
      ]
    },
    {
      "cell_type": "code",
      "execution_count": 24,
      "metadata": {
        "id": "i0-afYAgAdLU",
        "colab": {
          "base_uri": "https://localhost:8080/"
        },
        "outputId": "14c7a334-f6cb-45e1-bc84-fe651a01fb70"
      },
      "outputs": [
        {
          "output_type": "stream",
          "name": "stdout",
          "text": [
            "Geração 0 | Melhor até agora: 0111111101111111, x1 = -1 x2 = -1 fitness = 5.0000\n",
            "Geração 1 | Melhor até agora: 0111111101111111, x1 = -1 x2 = -1 fitness = 5.0000\n",
            "Geração 2 | Melhor até agora: 0111111101111111, x1 = -1 x2 = -1 fitness = 5.0000\n",
            "Geração 3 | Melhor até agora: 0111111101111111, x1 = -1 x2 = -1 fitness = 5.0000\n",
            "Geração 4 | Melhor até agora: 0111111101111111, x1 = -1 x2 = -1 fitness = 5.0000\n",
            "Geração 5 | Melhor até agora: 0111111101111111, x1 = -1 x2 = -1 fitness = 5.0000\n",
            "Geração 6 | Melhor até agora: 0111111101111111, x1 = -1 x2 = -1 fitness = 5.0000\n",
            "Geração 7 | Melhor até agora: 0111111101111111, x1 = -1 x2 = -1 fitness = 5.0000\n",
            "Geração 8 | Melhor até agora: 0111111101111111, x1 = -1 x2 = -1 fitness = 5.0000\n",
            "Geração 9 | Melhor até agora: 0111111101111111, x1 = -1 x2 = -1 fitness = 5.0000\n",
            "Geração 10 | Melhor até agora: 0111111101111111, x1 = -1 x2 = -1 fitness = 5.0000\n",
            "Geração 11 | Melhor até agora: 0111111101111111, x1 = -1 x2 = -1 fitness = 5.0000\n",
            "Geração 12 | Melhor até agora: 0111111101111111, x1 = -1 x2 = -1 fitness = 5.0000\n",
            "Geração 13 | Melhor até agora: 0111111101111111, x1 = -1 x2 = -1 fitness = 5.0000\n",
            "Geração 14 | Melhor até agora: 0111111101111111, x1 = -1 x2 = -1 fitness = 5.0000\n",
            "Geração 15 | Melhor até agora: 0111111101111111, x1 = -1 x2 = -1 fitness = 5.0000\n",
            "Geração 16 | Melhor até agora: 0111111101111111, x1 = -1 x2 = -1 fitness = 5.0000\n",
            "Geração 17 | Melhor até agora: 0111111101111111, x1 = -1 x2 = -1 fitness = 5.0000\n",
            "Geração 18 | Melhor até agora: 0111111101111111, x1 = -1 x2 = -1 fitness = 5.0000\n",
            "Geração 19 | Melhor até agora: 0110010101100001, x1 = -3 x2 = -3 fitness = 1.0000\n",
            "Geração 20 | Melhor até agora: 0110010101100001, x1 = -3 x2 = -3 fitness = 1.0000\n",
            "Geração 21 | Melhor até agora: 0110010101100001, x1 = -3 x2 = -3 fitness = 1.0000\n",
            "Geração 22 | Melhor até agora: 0110111101100001, x1 = -2 x2 = -3 fitness = 0.0000\n"
          ]
        },
        {
          "output_type": "execute_result",
          "data": {
            "text/plain": [
              "([0, 1, 1, 0, 1, 1, 1, 1, 0, 1, 1, 0, 0, 0, 0, 1], 0)"
            ]
          },
          "metadata": {},
          "execution_count": 24
        }
      ],
      "source": [
        "import random\n",
        "#População toda é substituída a cada geração. - não faz seleção\n",
        "\n",
        "# f(x) = x^2 + 5x + 6\n",
        "def f(x):\n",
        "    return x**2 + 5*x + 6\n",
        "\n",
        "def fitness(x1, x2):\n",
        "    fit = abs(f(x1)) + abs(f(x2))\n",
        "    if x1 == x2:\n",
        "      return fit+1\n",
        "    return fit\n",
        "\n",
        "def binario_para_int(b):\n",
        "    inteiro = int(\"\".join(map(str, b)), 2)\n",
        "    return -10 + (20 * inteiro) // (2**len(b) - 1)\n",
        "\n",
        "def decodificar(cromossomo):\n",
        "    x1_bin = cromossomo[:8]\n",
        "    x2_bin = cromossomo[8:]\n",
        "    x1 = binario_para_int(x1_bin)\n",
        "    x2 = binario_para_int(x2_bin)\n",
        "    return x1, x2\n",
        "\n",
        "def crossover(p1, p2):\n",
        "    ponto = random.randint(1, len(p1) - 2) #evita cortar no incio ou no final\n",
        "    filho = p1[:ponto] + p2[ponto:]\n",
        "    return filho\n",
        "\n",
        "def mutar(cromossomo, taxa=0.02):\n",
        "    return [bit if random.random() > taxa else 1 - bit for bit in cromossomo]\n",
        "\n",
        "def ag():\n",
        "    populacao = [[random.randint(0, 1) for _ in range(16)] for _ in range(10)]\n",
        "    best, best_score = [], 1000\n",
        "\n",
        "    for i in range(100):\n",
        "        nova_populacao = []\n",
        "        for _ in range(len(populacao)):\n",
        "            # Seleção aleatória (sem elitismo)\n",
        "            p1 = random.choice(populacao)\n",
        "            p2 = random.choice(populacao)\n",
        "            filho = crossover(p1, p2)\n",
        "            filho = mutar(filho)\n",
        "            nova_populacao.append(filho)\n",
        "\n",
        "            x1, x2 = decodificar(filho)\n",
        "            score = fitness(x1, x2)\n",
        "            if score < best_score:\n",
        "                best, best_score = filho, score\n",
        "\n",
        "        populacao = nova_populacao\n",
        "        x1, x2 = decodificar(best)\n",
        "        score = fitness(x1, x2)\n",
        "        print(f\"Geração {i} | Melhor até agora: {''.join(map(str, best))}, x1 = {x1} x2 = {x2} fitness = {score:.4f}\")\n",
        "\n",
        "        if score == 0:\n",
        "            break\n",
        "\n",
        "    return best, best_score\n",
        "\n",
        "ag()"
      ]
    },
    {
      "cell_type": "code",
      "source": [],
      "metadata": {
        "id": "F0ZSzBxEZNZX"
      },
      "execution_count": null,
      "outputs": []
    }
  ]
}